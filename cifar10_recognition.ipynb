{
  "nbformat": 4,
  "nbformat_minor": 0,
  "metadata": {
    "colab": {
      "provenance": [],
      "gpuType": "T4"
    },
    "kernelspec": {
      "name": "python3",
      "display_name": "Python 3"
    },
    "language_info": {
      "name": "python"
    },
    "accelerator": "GPU"
  },
  "cells": [
    {
      "cell_type": "code",
      "execution_count": 2,
      "metadata": {
        "id": "kmx8dh_o3llR"
      },
      "outputs": [],
      "source": [
        "import numpy as np\n",
        "import matplotlib.pyplot as plt\n",
        "from tensorflow.keras.datasets import cifar10\n",
        "from sklearn.model_selection import train_test_split"
      ]
    },
    {
      "cell_type": "code",
      "source": [
        "(x_train, y_train), (x_test, y_test) = cifar10.load_data()"
      ],
      "metadata": {
        "colab": {
          "base_uri": "https://localhost:8080/"
        },
        "id": "Dds5w_cG5T0Q",
        "outputId": "cbead116-d9cc-4fa7-d7dd-609cdb21061d"
      },
      "execution_count": 3,
      "outputs": [
        {
          "output_type": "stream",
          "name": "stdout",
          "text": [
            "Downloading data from https://www.cs.toronto.edu/~kriz/cifar-10-python.tar.gz\n",
            "170498071/170498071 [==============================] - 6s 0us/step\n"
          ]
        }
      ]
    },
    {
      "cell_type": "code",
      "source": [
        "from sklearn.utils import shuffle"
      ],
      "metadata": {
        "id": "pnHG2OHhJBm7"
      },
      "execution_count": 4,
      "outputs": []
    },
    {
      "cell_type": "code",
      "source": [
        "x_train, y_train = shuffle(x_train, y_train)"
      ],
      "metadata": {
        "id": "p_To9hyEJE3N"
      },
      "execution_count": 5,
      "outputs": []
    },
    {
      "cell_type": "code",
      "source": [
        "x_train, x_valid, y_train, y_valid = train_test_split(x_train, y_train, test_size = 0.1)"
      ],
      "metadata": {
        "id": "qApbhWeF5aiY"
      },
      "execution_count": 6,
      "outputs": []
    },
    {
      "cell_type": "code",
      "source": [
        "from tensorflow.keras.utils import to_categorical\n",
        "y_train = to_categorical(y_train, num_classes = 10)\n",
        "y_valid = to_categorical(y_valid, num_classes = 10)\n",
        "y_test = to_categorical(y_test, num_classes = 10)\n"
      ],
      "metadata": {
        "id": "OMMWhfIF5pV8"
      },
      "execution_count": 7,
      "outputs": []
    },
    {
      "cell_type": "code",
      "source": [
        "from tensorflow.keras.models import Sequential\n",
        "from tensorflow.keras.layers import Conv2D, MaxPooling2D, Softmax, Flatten, Dense, Activation, Dropout, BatchNormalization"
      ],
      "metadata": {
        "id": "FOC46At76iaI"
      },
      "execution_count": 8,
      "outputs": []
    },
    {
      "cell_type": "code",
      "source": [
        "from types import MethodDescriptorType\n",
        "model = Sequential()\n",
        "\n",
        "model.add(Conv2D(32, (3, 3), padding=\"same\", input_shape=(32,32,3)))\n",
        "model.add(Activation(\"relu\"))\n",
        "model.add(BatchNormalization())\n",
        "model.add(Conv2D(32, (3, 3), padding=\"same\"))\n",
        "model.add(Activation(\"relu\"))\n",
        "model.add(BatchNormalization())\n",
        "model.add(MaxPooling2D(pool_size=(2,2)))\n",
        "model.add(Dropout(0.2))\n",
        "model.add(Conv2D(64, (3, 3), padding=\"same\"))\n",
        "model.add(Activation(\"relu\"))\n",
        "model.add(BatchNormalization())\n",
        "model.add(Conv2D(64, (3, 3), padding=\"same\"))\n",
        "model.add(Activation(\"relu\"))\n",
        "model.add(BatchNormalization())\n",
        "model.add(MaxPooling2D(pool_size=(2,2)))\n",
        "model.add(Dropout(0.2))\n",
        "model.add(Flatten())\n",
        "model.add(Dense(128))\n",
        "model.add(Activation(\"relu\"))\n",
        "model.add(BatchNormalization())\n",
        "model.add(Dropout(0.2))\n",
        "model.add(Dense(10))\n",
        "model.add(Activation(\"softmax\"))"
      ],
      "metadata": {
        "id": "3GywInaP68Dv"
      },
      "execution_count": 14,
      "outputs": []
    },
    {
      "cell_type": "code",
      "source": [
        "model.compile(optimizer = 'adam', loss = 'categorical_crossentropy', metrics = ['accuracy'])\n",
        "h = model.fit(x_train, y_train, epochs = 10, validation_data = (x_valid, y_valid), verbose = 1, batch_size = 64 )"
      ],
      "metadata": {
        "colab": {
          "base_uri": "https://localhost:8080/"
        },
        "id": "bGQftzHk8I40",
        "outputId": "a0717b40-af7f-472e-d56f-5664d95dd16c"
      },
      "execution_count": 16,
      "outputs": [
        {
          "output_type": "stream",
          "name": "stdout",
          "text": [
            "Epoch 1/10\n",
            "704/704 [==============================] - 12s 12ms/step - loss: 0.3394 - accuracy: 0.8793 - val_loss: 0.8372 - val_accuracy: 0.7510\n",
            "Epoch 2/10\n",
            "704/704 [==============================] - 8s 11ms/step - loss: 0.3114 - accuracy: 0.8891 - val_loss: 0.6700 - val_accuracy: 0.7934\n",
            "Epoch 3/10\n",
            "704/704 [==============================] - 8s 12ms/step - loss: 0.2925 - accuracy: 0.8953 - val_loss: 0.7791 - val_accuracy: 0.7702\n",
            "Epoch 4/10\n",
            "704/704 [==============================] - 8s 11ms/step - loss: 0.2642 - accuracy: 0.9062 - val_loss: 0.6654 - val_accuracy: 0.7956\n",
            "Epoch 5/10\n",
            "704/704 [==============================] - 8s 12ms/step - loss: 0.2484 - accuracy: 0.9104 - val_loss: 0.7425 - val_accuracy: 0.7832\n",
            "Epoch 6/10\n",
            "704/704 [==============================] - 8s 12ms/step - loss: 0.2533 - accuracy: 0.9090 - val_loss: 0.7498 - val_accuracy: 0.7846\n",
            "Epoch 7/10\n",
            "704/704 [==============================] - 8s 11ms/step - loss: 0.2279 - accuracy: 0.9189 - val_loss: 0.6795 - val_accuracy: 0.8080\n",
            "Epoch 8/10\n",
            "704/704 [==============================] - 8s 12ms/step - loss: 0.2071 - accuracy: 0.9274 - val_loss: 0.7121 - val_accuracy: 0.7968\n",
            "Epoch 9/10\n",
            "704/704 [==============================] - 8s 11ms/step - loss: 0.2140 - accuracy: 0.9231 - val_loss: 0.7175 - val_accuracy: 0.7996\n",
            "Epoch 10/10\n",
            "704/704 [==============================] - 9s 13ms/step - loss: 0.1979 - accuracy: 0.9287 - val_loss: 0.6825 - val_accuracy: 0.8102\n"
          ]
        }
      ]
    },
    {
      "cell_type": "code",
      "source": [
        "model.evaluate(x_test,y_test)"
      ],
      "metadata": {
        "colab": {
          "base_uri": "https://localhost:8080/"
        },
        "id": "lmgRY142_lH1",
        "outputId": "1feeb212-f5a8-483b-a736-9aacbd34fa7d"
      },
      "execution_count": 17,
      "outputs": [
        {
          "output_type": "stream",
          "name": "stdout",
          "text": [
            "313/313 [==============================] - 2s 5ms/step - loss: 0.6889 - accuracy: 0.8074\n"
          ]
        },
        {
          "output_type": "execute_result",
          "data": {
            "text/plain": [
              "[0.6888502836227417, 0.8073999881744385]"
            ]
          },
          "metadata": {},
          "execution_count": 17
        }
      ]
    }
  ]
}